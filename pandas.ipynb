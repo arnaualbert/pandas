{
 "cells": [
  {
   "cell_type": "code",
   "execution_count": 3,
   "metadata": {},
   "outputs": [
    {
     "name": "stdout",
     "output_type": "stream",
     "text": [
      "       grade   dual\n",
      "John       7  False\n",
      "Mary       9   True\n",
      "Lucy       8  False\n",
      "Peter      4   True\n",
      "Arnau      8   True\n",
      "Lucia      7  False\n",
      "Marta      6   True\n"
     ]
    }
   ],
   "source": [
    "import numpy as np\n",
    "import pandas as pd\n",
    "#les notes de dawbio amb dataframe\n",
    "student_list=[\"John\",\"Mary\",\"Lucy\",\"Peter\",\"Arnau\",\"Lucia\",\"Marta\"]\n",
    "grades_list = [7,9,8,4,8,7,6]\n",
    "wants_dual_list = [False,True,False,True,True,False,True]\n",
    "datos: dict[list] = {\"grade\": grades_list,\n",
    "      \"dual\": wants_dual_list}\n",
    "students_frame = pd.DataFrame(\n",
    "    index=student_list,\n",
    "    data = datos\n",
    ")\n",
    "print(students_frame)"
   ]
  },
  {
   "cell_type": "code",
   "execution_count": 14,
   "metadata": {},
   "outputs": [
    {
     "name": "stdout",
     "output_type": "stream",
     "text": [
      "       grade  dual country\n",
      "John       7  True   Spain\n",
      "Mary       9  True   Spain\n",
      "Lucy       8  True   Spain\n",
      "Peter      4  True   Spain\n",
      "Arnau      8  True   Spain\n",
      "Lucia      7  True   Spain\n",
      "Marta      6  True   Spain\n"
     ]
    }
   ],
   "source": [
    "import numpy as np\n",
    "import pandas as pd\n",
    "#les notes de dawbio amb dataframe\n",
    "student_list=[\"John\",\"Mary\",\"Lucy\",\"Peter\",\"Arnau\",\"Lucia\",\"Marta\"]\n",
    "Country=[\"Spain\",\"Spain\",\"Spain\",\"Spain\",\"Spain\",\"Spain\",\"Spain\"]\n",
    "grades_list = [7,9,8,4,8,7,6]\n",
    "wants_dual_list = [True]\n",
    "datos: dict[list] = {\"grade\": grades_list,\n",
    "      \"dual\": wants_dual_list,\"country\": Country}\n",
    "students_frame = pd.DataFrame(\n",
    "    index=student_list,\n",
    "    data = datos\n",
    ")\n",
    "print(students_frame)"
   ]
  },
  {
   "cell_type": "code",
   "execution_count": 22,
   "metadata": {},
   "outputs": [],
   "source": [
    "dict = {'Name' : ['Martha', 'Tim', 'Rob', 'Georgia'],\n",
    "        'Maths' : [87, 91, 97, 95],\n",
    "        'Science' : [83, 99, 84, 76]}\n",
    "df = pd.DataFrame(dict)\n",
    "  \n",
    "# displaying the DataFrame\n",
    "#Only for outside jupyter display.display_pretty(df)\n",
    "# display is not callable, it has submodules"
   ]
  },
  {
   "cell_type": "code",
   "execution_count": 26,
   "metadata": {},
   "outputs": [
    {
     "ename": "KeyError",
     "evalue": "<class 'list'>",
     "output_type": "error",
     "traceback": [
      "\u001b[0;31m---------------------------------------------------------------------------\u001b[0m",
      "\u001b[0;31mKeyError\u001b[0m                                  Traceback (most recent call last)",
      "Cell \u001b[0;32mIn [26], line 11\u001b[0m\n\u001b[1;32m      8\u001b[0m wants_dualipa_list \u001b[38;5;241m=\u001b[39m [\u001b[38;5;28;01mTrue\u001b[39;00m]\n\u001b[1;32m      9\u001b[0m start_date \u001b[38;5;241m=\u001b[39m pd\u001b[38;5;241m.\u001b[39mdate_range(\u001b[38;5;124m\"\u001b[39m\u001b[38;5;124m20210101\u001b[39m\u001b[38;5;124m\"\u001b[39m, periods\u001b[38;5;241m=\u001b[39m\u001b[38;5;241m6\u001b[39m)\n\u001b[0;32m---> 11\u001b[0m datos: \u001b[38;5;28;43mdict\u001b[39;49m\u001b[43m[\u001b[49m\u001b[38;5;28;43mlist\u001b[39;49m\u001b[43m]\u001b[49m \u001b[38;5;241m=\u001b[39m {\u001b[38;5;124m\"\u001b[39m\u001b[38;5;124mgrade\u001b[39m\u001b[38;5;124m\"\u001b[39m: grades_list,\n\u001b[1;32m     12\u001b[0m       \u001b[38;5;124m\"\u001b[39m\u001b[38;5;124mdual\u001b[39m\u001b[38;5;124m\"\u001b[39m: wants_dual_list, \u001b[38;5;124m\"\u001b[39m\u001b[38;5;124mstudent_list\u001b[39m\u001b[38;5;124m\"\u001b[39m : student_list}\n\u001b[1;32m     14\u001b[0m students_frame \u001b[38;5;241m=\u001b[39m pd\u001b[38;5;241m.\u001b[39mDataFrame(\n\u001b[1;32m     15\u001b[0m     index\u001b[38;5;241m=\u001b[39mstudent_list,\n\u001b[1;32m     16\u001b[0m     data\u001b[38;5;241m=\u001b[39mdatos\n\u001b[1;32m     17\u001b[0m )\n\u001b[1;32m     18\u001b[0m \u001b[38;5;66;03m#print(students_frame)\u001b[39;00m\n\u001b[1;32m     19\u001b[0m \n\u001b[1;32m     20\u001b[0m \u001b[38;5;66;03m# Ordenar numèric\u001b[39;00m\n",
      "\u001b[0;31mKeyError\u001b[0m: <class 'list'>"
     ]
    }
   ],
   "source": [
    "import numpy as np\n",
    "import pandas as pd\n",
    "\n",
    "#les notes de dawbio amb dataframe\n",
    "student_list=[\"John\",\"Mary\",\"Lucy\",\"Peter\",\"Ann\",\"Tom\"]\n",
    "grades_list = [7,9,8,4,10,6]\n",
    "wants_dual_list = [False,True,False,True,True,True]\n",
    "wants_dualipa_list = [True]\n",
    "start_date = pd.date_range(\"20210101\", periods=6)\n",
    "\n",
    "datos: dict[list] = {\"grade\": grades_list,\n",
    "      \"dual\": wants_dual_list, \"student_list\" : student_list}\n",
    "\n",
    "students_frame = pd.DataFrame(\n",
    "    index=student_list,\n",
    "    data=datos\n",
    ")\n",
    "#print(students_frame)\n",
    "\n",
    "# Ordenar numèric\n",
    "students_frame_sorted = students_frame.sort_values(by=[\"grade\"],axis=0,ascending=False)\n",
    "print(students_frame_sorted)\n",
    "\n",
    "# Ordenar alfabètic.\n",
    "students_frame_sorted = students_frame.sort_values(by=[\"student_list\"],ascending=True)\n",
    "print(students_frame_sorted)"
   ]
  }
 ],
 "metadata": {
  "interpreter": {
   "hash": "2c3e2c992006a9c8420733b5e428a6f7441f81bf1494df676a5de03aca71b460"
  },
  "kernelspec": {
   "display_name": "Python 3.10.4 ('py310')",
   "language": "python",
   "name": "python3"
  },
  "language_info": {
   "codemirror_mode": {
    "name": "ipython",
    "version": 3
   },
   "file_extension": ".py",
   "mimetype": "text/x-python",
   "name": "python",
   "nbconvert_exporter": "python",
   "pygments_lexer": "ipython3",
   "version": "3.10.4"
  },
  "orig_nbformat": 4
 },
 "nbformat": 4,
 "nbformat_minor": 2
}
