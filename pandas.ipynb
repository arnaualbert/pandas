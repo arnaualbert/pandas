{
 "cells": [
  {
   "cell_type": "code",
   "execution_count": 3,
   "metadata": {},
   "outputs": [
    {
     "name": "stdout",
     "output_type": "stream",
     "text": [
      "       grade   dual\n",
      "John       7  False\n",
      "Mary       9   True\n",
      "Lucy       8  False\n",
      "Peter      4   True\n",
      "Arnau      8   True\n",
      "Lucia      7  False\n",
      "Marta      6   True\n"
     ]
    }
   ],
   "source": [
    "import numpy as np\n",
    "import pandas as pd\n",
    "#les notes de dawbio amb dataframe\n",
    "student_list=[\"John\",\"Mary\",\"Lucy\",\"Peter\",\"Arnau\",\"Lucia\",\"Marta\"]\n",
    "grades_list = [7,9,8,4,8,7,6]\n",
    "wants_dual_list = [False,True,False,True,True,False,True]\n",
    "datos: dict[list] = {\"grade\": grades_list,\n",
    "      \"dual\": wants_dual_list}\n",
    "students_frame = pd.DataFrame(\n",
    "    index=student_list,\n",
    "    data = datos\n",
    ")\n",
    "print(students_frame)"
   ]
  },
  {
   "cell_type": "code",
   "execution_count": 14,
   "metadata": {},
   "outputs": [
    {
     "name": "stdout",
     "output_type": "stream",
     "text": [
      "       grade  dual country\n",
      "John       7  True   Spain\n",
      "Mary       9  True   Spain\n",
      "Lucy       8  True   Spain\n",
      "Peter      4  True   Spain\n",
      "Arnau      8  True   Spain\n",
      "Lucia      7  True   Spain\n",
      "Marta      6  True   Spain\n"
     ]
    }
   ],
   "source": [
    "import numpy as np\n",
    "import pandas as pd\n",
    "#les notes de dawbio amb dataframe\n",
    "student_list=[\"John\",\"Mary\",\"Lucy\",\"Peter\",\"Arnau\",\"Lucia\",\"Marta\"]\n",
    "Country=[\"Spain\",\"Spain\",\"Spain\",\"Spain\",\"Spain\",\"Spain\",\"Spain\"]\n",
    "grades_list = [7,9,8,4,8,7,6]\n",
    "wants_dual_list = [True]\n",
    "datos: dict[list] = {\"grade\": grades_list,\n",
    "      \"dual\": wants_dual_list,\"country\": Country}\n",
    "students_frame = pd.DataFrame(\n",
    "    index=student_list,\n",
    "    data = datos\n",
    ")\n",
    "print(students_frame)"
   ]
  },
  {
   "cell_type": "code",
   "execution_count": 22,
   "metadata": {},
   "outputs": [],
   "source": [
    "dict = {'Name' : ['Martha', 'Tim', 'Rob', 'Georgia'],\n",
    "        'Maths' : [87, 91, 97, 95],\n",
    "        'Science' : [83, 99, 84, 76]}\n",
    "df = pd.DataFrame(dict)\n",
    "  \n",
    "# displaying the DataFrame\n",
    "#Only for outside jupyter display.display_pretty(df)\n",
    "# display is not callable, it has submodules"
   ]
  },
  {
   "cell_type": "code",
   "execution_count": 30,
   "metadata": {},
   "outputs": [
    {
     "name": "stdout",
     "output_type": "stream",
     "text": [
      "       grade   dual student_list\n",
      "Ann       10   True          Ann\n",
      "Mary       9   True         Mary\n",
      "Lucy       8  False         Lucy\n",
      "John       7  False         John\n",
      "Tom        6   True          Tom\n",
      "Peter      4   True        Peter\n",
      "       grade   dual student_list\n",
      "Ann       10   True          Ann\n",
      "John       7  False         John\n",
      "Lucy       8  False         Lucy\n",
      "Mary       9   True         Mary\n",
      "Peter      4   True        Peter\n",
      "Tom        6   True          Tom\n",
      "Lucy grade =  8\n",
      "8\n",
      "8\n"
     ]
    },
    {
     "data": {
      "text/html": [
       "<div>\n",
       "<style scoped>\n",
       "    .dataframe tbody tr th:only-of-type {\n",
       "        vertical-align: middle;\n",
       "    }\n",
       "\n",
       "    .dataframe tbody tr th {\n",
       "        vertical-align: top;\n",
       "    }\n",
       "\n",
       "    .dataframe thead th {\n",
       "        text-align: right;\n",
       "    }\n",
       "</style>\n",
       "<table border=\"1\" class=\"dataframe\">\n",
       "  <thead>\n",
       "    <tr style=\"text-align: right;\">\n",
       "      <th></th>\n",
       "      <th>grade</th>\n",
       "      <th>dual</th>\n",
       "    </tr>\n",
       "  </thead>\n",
       "  <tbody>\n",
       "    <tr>\n",
       "      <th>Mary</th>\n",
       "      <td>9</td>\n",
       "      <td>True</td>\n",
       "    </tr>\n",
       "    <tr>\n",
       "      <th>Lucy</th>\n",
       "      <td>8</td>\n",
       "      <td>False</td>\n",
       "    </tr>\n",
       "  </tbody>\n",
       "</table>\n",
       "</div>"
      ],
      "text/plain": [
       "      grade   dual\n",
       "Mary      9   True\n",
       "Lucy      8  False"
      ]
     },
     "execution_count": 30,
     "metadata": {},
     "output_type": "execute_result"
    }
   ],
   "source": [
    "import numpy as np\n",
    "import pandas as pd\n",
    "\n",
    "#les notes de dawbio amb dataframe\n",
    "student_list=[\"John\",\"Mary\",\"Lucy\",\"Peter\",\"Ann\",\"Tom\"]\n",
    "grades_list = [7,9,8,4,10,6]\n",
    "wants_dual_list = [False,True,False,True,True,True]\n",
    "wants_dualipa_list = [True]\n",
    "start_date = pd.date_range(\"20210101\", periods=6)\n",
    "\n",
    "datos = {\"grade\": grades_list, \"dual\": wants_dual_list, \"student_list\" : student_list}\n",
    "\n",
    "students_frame = pd.DataFrame(\n",
    "    index=student_list,\n",
    "    data=datos\n",
    ")\n",
    "#print(students_frame)\n",
    "\n",
    "# Ordenar numèric\n",
    "students_frame_sorted = students_frame.sort_values(by=[\"grade\"],axis=0,ascending=False)\n",
    "print(students_frame_sorted)\n",
    "\n",
    "# Ordenar alfabètic.\n",
    "students_frame_sorted = students_frame.sort_values(by=[\"student_list\"],ascending=True)\n",
    "print(students_frame_sorted)\n",
    "\n",
    "# Utilitzar sempre localització d'un atribut\n",
    "# .loc rep 2 parametres('enfonsar-se','bucejar')\n",
    "print(\"Lucy grade = \",students_frame.loc[\"Lucy\",\"grade\"])\n",
    "\n",
    "#si vull totes les notes dels estudiants, a la fila poso un slice buit\n",
    "students_frame.loc[:,\"grade\"]\n",
    "\n",
    "#La primera coordenada capbusada | i despres bucejo -> però amb numèrics.\n",
    "students_frame.iloc[0,1]\n",
    "\n",
    "\n",
    "# Les 2 consultes retornen el mateix resultat.\n",
    "# at = loc opt.\n",
    "print(students_frame.at[\"Lucy\",\"grade\"])\n",
    "# iat = loc opt.\n",
    "print(students_frame.iat[2,0])\n",
    "\n",
    "#Podemos devolver una lista de varias filas, devuelve una lista\n",
    "students_frame.loc[[\"Mary\",\"Lucy\"],\"grade\"]\n",
    "\n",
    "#Podem retornar una llista de varies files, i retorna una llista\n",
    "students_frame.loc[[\"Mary\",\"Lucy\"],\n",
    "                   [\"grade\",\"dual\"]]"
   ]
  }
 ],
 "metadata": {
  "interpreter": {
   "hash": "2c3e2c992006a9c8420733b5e428a6f7441f81bf1494df676a5de03aca71b460"
  },
  "kernelspec": {
   "display_name": "Python 3.10.4 ('py310')",
   "language": "python",
   "name": "python3"
  },
  "language_info": {
   "codemirror_mode": {
    "name": "ipython",
    "version": 3
   },
   "file_extension": ".py",
   "mimetype": "text/x-python",
   "name": "python",
   "nbconvert_exporter": "python",
   "pygments_lexer": "ipython3",
   "version": "3.10.4"
  },
  "orig_nbformat": 4
 },
 "nbformat": 4,
 "nbformat_minor": 2
}
