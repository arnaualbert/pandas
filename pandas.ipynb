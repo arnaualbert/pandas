{
 "cells": [
  {
   "cell_type": "code",
   "execution_count": 3,
   "metadata": {},
   "outputs": [
    {
     "name": "stdout",
     "output_type": "stream",
     "text": [
      "       grade   dual\n",
      "John       7  False\n",
      "Mary       9   True\n",
      "Lucy       8  False\n",
      "Peter      4   True\n",
      "Arnau      8   True\n",
      "Lucia      7  False\n",
      "Marta      6   True\n"
     ]
    }
   ],
   "source": [
    "import numpy as np\n",
    "import pandas as pd\n",
    "#les notes de dawbio amb dataframe\n",
    "student_list=[\"John\",\"Mary\",\"Lucy\",\"Peter\",\"Arnau\",\"Lucia\",\"Marta\"]\n",
    "grades_list = [7,9,8,4,8,7,6]\n",
    "wants_dual_list = [False,True,False,True,True,False,True]\n",
    "datos: dict[list] = {\"grade\": grades_list,\n",
    "      \"dual\": wants_dual_list}\n",
    "students_frame = pd.DataFrame(\n",
    "    index=student_list,\n",
    "    data = datos\n",
    ")\n",
    "print(students_frame)"
   ]
  },
  {
   "cell_type": "code",
   "execution_count": 14,
   "metadata": {},
   "outputs": [
    {
     "name": "stdout",
     "output_type": "stream",
     "text": [
      "       grade  dual country\n",
      "John       7  True   Spain\n",
      "Mary       9  True   Spain\n",
      "Lucy       8  True   Spain\n",
      "Peter      4  True   Spain\n",
      "Arnau      8  True   Spain\n",
      "Lucia      7  True   Spain\n",
      "Marta      6  True   Spain\n"
     ]
    }
   ],
   "source": [
    "import numpy as np\n",
    "import pandas as pd\n",
    "#les notes de dawbio amb dataframe\n",
    "student_list=[\"John\",\"Mary\",\"Lucy\",\"Peter\",\"Arnau\",\"Lucia\",\"Marta\"]\n",
    "Country=[\"Spain\",\"Spain\",\"Spain\",\"Spain\",\"Spain\",\"Spain\",\"Spain\"]\n",
    "grades_list = [7,9,8,4,8,7,6]\n",
    "wants_dual_list = [True]\n",
    "datos: dict[list] = {\"grade\": grades_list,\n",
    "      \"dual\": wants_dual_list,\"country\": Country}\n",
    "students_frame = pd.DataFrame(\n",
    "    index=student_list,\n",
    "    data = datos\n",
    ")\n",
    "print(students_frame)"
   ]
  }
 ],
 "metadata": {
  "interpreter": {
   "hash": "2c3e2c992006a9c8420733b5e428a6f7441f81bf1494df676a5de03aca71b460"
  },
  "kernelspec": {
   "display_name": "Python 3.10.4 ('py310')",
   "language": "python",
   "name": "python3"
  },
  "language_info": {
   "codemirror_mode": {
    "name": "ipython",
    "version": 3
   },
   "file_extension": ".py",
   "mimetype": "text/x-python",
   "name": "python",
   "nbconvert_exporter": "python",
   "pygments_lexer": "ipython3",
   "version": "3.10.4"
  },
  "orig_nbformat": 4
 },
 "nbformat": 4,
 "nbformat_minor": 2
}
