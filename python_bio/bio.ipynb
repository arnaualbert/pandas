{
 "cells": [
  {
   "cell_type": "code",
   "execution_count": 2,
   "metadata": {},
   "outputs": [
    {
     "data": {
      "text/plain": [
       "True"
      ]
     },
     "metadata": {},
     "output_type": "display_data"
    }
   ],
   "source": [
    "import numpy as np \n",
    "import pandas as pd\n",
    "\n",
    "sida: pd.DataFrame = pd.read_csv(\"registro-regional-de-sida.csv\", sep=\";\")\n",
    "\n",
    "sida = sida.isnull().values.any()\n",
    "display(sida)"
   ]
  },
  {
   "cell_type": "code",
   "execution_count": 44,
   "metadata": {},
   "outputs": [
    {
     "data": {
      "text/html": [
       "<div>\n",
       "<style scoped>\n",
       "    .dataframe tbody tr th:only-of-type {\n",
       "        vertical-align: middle;\n",
       "    }\n",
       "\n",
       "    .dataframe tbody tr th {\n",
       "        vertical-align: top;\n",
       "    }\n",
       "\n",
       "    .dataframe thead th {\n",
       "        text-align: right;\n",
       "    }\n",
       "</style>\n",
       "<table border=\"1\" class=\"dataframe\">\n",
       "  <thead>\n",
       "    <tr style=\"text-align: right;\">\n",
       "      <th></th>\n",
       "      <th>Año de diagnóstico</th>\n",
       "      <th>Sexo</th>\n",
       "      <th>Edad años</th>\n",
       "      <th>Edad meses</th>\n",
       "      <th>provincia</th>\n",
       "      <th>País de origen</th>\n",
       "      <th>Código Grupo de riesgo</th>\n",
       "      <th>Grupo de riesgo</th>\n",
       "    </tr>\n",
       "  </thead>\n",
       "  <tbody>\n",
       "    <tr>\n",
       "      <th>63</th>\n",
       "      <td>NaN</td>\n",
       "      <td>H</td>\n",
       "      <td>28.0</td>\n",
       "      <td>0.0</td>\n",
       "      <td>Salamanca</td>\n",
       "      <td>España</td>\n",
       "      <td>20</td>\n",
       "      <td>Personas que se inyectan drogas</td>\n",
       "    </tr>\n",
       "    <tr>\n",
       "      <th>962</th>\n",
       "      <td>NaN</td>\n",
       "      <td>H</td>\n",
       "      <td>64.0</td>\n",
       "      <td>0.0</td>\n",
       "      <td>Salamanca</td>\n",
       "      <td>España</td>\n",
       "      <td>80</td>\n",
       "      <td>Grupo de riesgo desconocido</td>\n",
       "    </tr>\n",
       "    <tr>\n",
       "      <th>964</th>\n",
       "      <td>NaN</td>\n",
       "      <td>H</td>\n",
       "      <td>27.0</td>\n",
       "      <td>0.0</td>\n",
       "      <td>Salamanca</td>\n",
       "      <td>España</td>\n",
       "      <td>20</td>\n",
       "      <td>Personas que se inyectan drogas</td>\n",
       "    </tr>\n",
       "    <tr>\n",
       "      <th>983</th>\n",
       "      <td>NaN</td>\n",
       "      <td>H</td>\n",
       "      <td>30.0</td>\n",
       "      <td>0.0</td>\n",
       "      <td>Segovia</td>\n",
       "      <td>España</td>\n",
       "      <td>80</td>\n",
       "      <td>Grupo de riesgo desconocido</td>\n",
       "    </tr>\n",
       "    <tr>\n",
       "      <th>1130</th>\n",
       "      <td>NaN</td>\n",
       "      <td>H</td>\n",
       "      <td>28.0</td>\n",
       "      <td>0.0</td>\n",
       "      <td>Zamora</td>\n",
       "      <td>España</td>\n",
       "      <td>20</td>\n",
       "      <td>Personas que se inyectan drogas</td>\n",
       "    </tr>\n",
       "  </tbody>\n",
       "</table>\n",
       "</div>"
      ],
      "text/plain": [
       "      Año de diagnóstico Sexo  Edad años  Edad meses  provincia  \\\n",
       "63                   NaN    H       28.0         0.0  Salamanca   \n",
       "962                  NaN    H       64.0         0.0  Salamanca   \n",
       "964                  NaN    H       27.0         0.0  Salamanca   \n",
       "983                  NaN    H       30.0         0.0    Segovia   \n",
       "1130                 NaN    H       28.0         0.0     Zamora   \n",
       "\n",
       "     País de origen  Código Grupo de riesgo                 Grupo de riesgo   \n",
       "63           España                      20  Personas que se inyectan drogas  \n",
       "962          España                      80      Grupo de riesgo desconocido  \n",
       "964          España                      20  Personas que se inyectan drogas  \n",
       "983          España                      80      Grupo de riesgo desconocido  \n",
       "1130         España                      20  Personas que se inyectan drogas  "
      ]
     },
     "metadata": {},
     "output_type": "display_data"
    }
   ],
   "source": [
    "import pandas as pd\n",
    "\n",
    "sida: pd.DataFrame = pd.read_csv(\"registro-regional-de-sida.csv\", sep=\";\")\n",
    "\n",
    "# sida.dropna(inplace=True)\n",
    "# sida.isnull().sum()\n",
    "nan_rows = sida[sida.isnull().any(1)]\n",
    "display(nan_rows)\n",
    "# nan_rows = sida[sida.isnull().any(1)]\n",
    "# display(nan_rows)"
   ]
  },
  {
   "cell_type": "code",
   "execution_count": 40,
   "metadata": {},
   "outputs": [
    {
     "data": {
      "text/html": [
       "<div>\n",
       "<style scoped>\n",
       "    .dataframe tbody tr th:only-of-type {\n",
       "        vertical-align: middle;\n",
       "    }\n",
       "\n",
       "    .dataframe tbody tr th {\n",
       "        vertical-align: top;\n",
       "    }\n",
       "\n",
       "    .dataframe thead th {\n",
       "        text-align: right;\n",
       "    }\n",
       "</style>\n",
       "<table border=\"1\" class=\"dataframe\">\n",
       "  <thead>\n",
       "    <tr style=\"text-align: right;\">\n",
       "      <th></th>\n",
       "      <th>Año de diagnóstico</th>\n",
       "      <th>Sexo</th>\n",
       "      <th>Edad años</th>\n",
       "      <th>Edad meses</th>\n",
       "      <th>provincia</th>\n",
       "      <th>País de origen</th>\n",
       "      <th>Código Grupo de riesgo</th>\n",
       "      <th>Grupo de riesgo</th>\n",
       "    </tr>\n",
       "  </thead>\n",
       "  <tbody>\n",
       "    <tr>\n",
       "      <th>63</th>\n",
       "      <td>NaN</td>\n",
       "      <td>H</td>\n",
       "      <td>28.0</td>\n",
       "      <td>0.0</td>\n",
       "      <td>Salamanca</td>\n",
       "      <td>España</td>\n",
       "      <td>20</td>\n",
       "      <td>Personas que se inyectan drogas</td>\n",
       "    </tr>\n",
       "    <tr>\n",
       "      <th>962</th>\n",
       "      <td>NaN</td>\n",
       "      <td>H</td>\n",
       "      <td>64.0</td>\n",
       "      <td>0.0</td>\n",
       "      <td>Salamanca</td>\n",
       "      <td>España</td>\n",
       "      <td>80</td>\n",
       "      <td>Grupo de riesgo desconocido</td>\n",
       "    </tr>\n",
       "    <tr>\n",
       "      <th>964</th>\n",
       "      <td>NaN</td>\n",
       "      <td>H</td>\n",
       "      <td>27.0</td>\n",
       "      <td>0.0</td>\n",
       "      <td>Salamanca</td>\n",
       "      <td>España</td>\n",
       "      <td>20</td>\n",
       "      <td>Personas que se inyectan drogas</td>\n",
       "    </tr>\n",
       "    <tr>\n",
       "      <th>983</th>\n",
       "      <td>NaN</td>\n",
       "      <td>H</td>\n",
       "      <td>30.0</td>\n",
       "      <td>0.0</td>\n",
       "      <td>Segovia</td>\n",
       "      <td>España</td>\n",
       "      <td>80</td>\n",
       "      <td>Grupo de riesgo desconocido</td>\n",
       "    </tr>\n",
       "    <tr>\n",
       "      <th>1130</th>\n",
       "      <td>NaN</td>\n",
       "      <td>H</td>\n",
       "      <td>28.0</td>\n",
       "      <td>0.0</td>\n",
       "      <td>Zamora</td>\n",
       "      <td>España</td>\n",
       "      <td>20</td>\n",
       "      <td>Personas que se inyectan drogas</td>\n",
       "    </tr>\n",
       "  </tbody>\n",
       "</table>\n",
       "</div>"
      ],
      "text/plain": [
       "      Año de diagnóstico Sexo  Edad años  Edad meses  provincia  \\\n",
       "63                   NaN    H       28.0         0.0  Salamanca   \n",
       "962                  NaN    H       64.0         0.0  Salamanca   \n",
       "964                  NaN    H       27.0         0.0  Salamanca   \n",
       "983                  NaN    H       30.0         0.0    Segovia   \n",
       "1130                 NaN    H       28.0         0.0     Zamora   \n",
       "\n",
       "     País de origen  Código Grupo de riesgo                 Grupo de riesgo   \n",
       "63           España                      20  Personas que se inyectan drogas  \n",
       "962          España                      80      Grupo de riesgo desconocido  \n",
       "964          España                      20  Personas que se inyectan drogas  \n",
       "983          España                      80      Grupo de riesgo desconocido  \n",
       "1130         España                      20  Personas que se inyectan drogas  "
      ]
     },
     "metadata": {},
     "output_type": "display_data"
    }
   ],
   "source": [
    "import pandas as pd\n",
    "\n",
    "sida: pd.DataFrame = pd.read_csv(\"registro-regional-de-sida.csv\", sep=\";\")\n",
    "\n",
    "nan_rows = sida[sida.isnull().any(1)]\n",
    "display(nan_rows)"
   ]
  },
  {
   "cell_type": "code",
   "execution_count": 64,
   "metadata": {},
   "outputs": [
    {
     "data": {
      "text/plain": [
       "<pandas.core.groupby.generic.DataFrameGroupBy object at 0x7ff423d2eb00>"
      ]
     },
     "metadata": {},
     "output_type": "display_data"
    }
   ],
   "source": [
    "import numpy as np\n",
    "import pandas as pd\n",
    "\n",
    "\n",
    "sida: pd.DataFrame = pd.read_csv(\"registro-regional-de-sida.csv\", sep=\";\")\n",
    "# sida[\"Año de diagnóstico\"] \n",
    "media = sida.groupby(by = \"Edad años\")\n",
    "\n",
    "display(media)"
   ]
  },
  {
   "cell_type": "code",
   "execution_count": 56,
   "metadata": {},
   "outputs": [
    {
     "data": {
      "text/plain": [
       "<AxesSubplot:>"
      ]
     },
     "execution_count": 56,
     "metadata": {},
     "output_type": "execute_result"
    },
    {
     "data": {
      "image/png": "[encoded data removed]",
      "text/plain": [
       "<Figure size 640x480 with 1 Axes>"
      ]
     },
     "metadata": {},
     "output_type": "display_data"
    }
   ],
   "source": [
    "import numpy as np\n",
    "import pandas as pd\n",
    "\n",
    "\n",
    "sida: pd.DataFrame = pd.read_csv(\"registro-regional-de-sida.csv\", sep=\";\")\n",
    "\n",
    "sida.loc[15:55,\"Edad años\"].plot(kind=\"bar\")\n"
   ]
  },
  {
   "cell_type": "code",
   "execution_count": 32,
   "metadata": {},
   "outputs": [
    {
     "data": {
      "text/plain": [
       "<AxesSubplot:xlabel='Año de diagnóstico'>"
      ]
     },
     "execution_count": 32,
     "metadata": {},
     "output_type": "execute_result"
    },
    {
     "data": {
      "image/png": "[encoded data removed]",
      "text/plain": [
       "<Figure size 640x480 with 1 Axes>"
      ]
     },
     "metadata": {},
     "output_type": "display_data"
    }
   ],
   "source": [
    "import numpy as np\n",
    "import pandas as pd\n",
    " \n",
    " \n",
    "sida: pd.DataFrame = pd.read_csv(\"registro-regional-de-sida.csv\", sep=\";\")\n",
    "sida[\"Año de diagnóstico\"]\n",
    "media = sida.groupby(by = \"Año de diagnóstico\").mean()\n",
    "grafico = media.iloc[:,0:1]\n",
    "\n",
    "grafico.plot(kind=\"bar\")\n"
   ]
  },
  {
   "cell_type": "code",
   "execution_count": 19,
   "metadata": {},
   "outputs": [
    {
     "data": {
      "text/html": [
       "<div>\n",
       "<style scoped>\n",
       "    .dataframe tbody tr th:only-of-type {\n",
       "        vertical-align: middle;\n",
       "    }\n",
       "\n",
       "    .dataframe tbody tr th {\n",
       "        vertical-align: top;\n",
       "    }\n",
       "\n",
       "    .dataframe thead th {\n",
       "        text-align: right;\n",
       "    }\n",
       "</style>\n",
       "<table border=\"1\" class=\"dataframe\">\n",
       "  <thead>\n",
       "    <tr style=\"text-align: right;\">\n",
       "      <th></th>\n",
       "      <th>Año de diagnóstico</th>\n",
       "      <th>Sexo</th>\n",
       "      <th>Grupo de riesgo</th>\n",
       "      <th>Código Grupo de riesgo</th>\n",
       "    </tr>\n",
       "  </thead>\n",
       "  <tbody>\n",
       "    <tr>\n",
       "      <th>0</th>\n",
       "      <td>1985.0</td>\n",
       "      <td>H</td>\n",
       "      <td>Personas que se inyectan drogas</td>\n",
       "      <td>20</td>\n",
       "    </tr>\n",
       "    <tr>\n",
       "      <th>1</th>\n",
       "      <td>1985.0</td>\n",
       "      <td>H</td>\n",
       "      <td>Personas que se inyectan drogas</td>\n",
       "      <td>20</td>\n",
       "    </tr>\n",
       "    <tr>\n",
       "      <th>2</th>\n",
       "      <td>1985.0</td>\n",
       "      <td>H</td>\n",
       "      <td>Personas que se inyectan drogas</td>\n",
       "      <td>20</td>\n",
       "    </tr>\n",
       "    <tr>\n",
       "      <th>3</th>\n",
       "      <td>1985.0</td>\n",
       "      <td>H</td>\n",
       "      <td>Personas que se inyectan drogas</td>\n",
       "      <td>20</td>\n",
       "    </tr>\n",
       "    <tr>\n",
       "      <th>4</th>\n",
       "      <td>1982.0</td>\n",
       "      <td>M</td>\n",
       "      <td>Personas que se inyectan drogas</td>\n",
       "      <td>20</td>\n",
       "    </tr>\n",
       "    <tr>\n",
       "      <th>...</th>\n",
       "      <td>...</td>\n",
       "      <td>...</td>\n",
       "      <td>...</td>\n",
       "      <td>...</td>\n",
       "    </tr>\n",
       "    <tr>\n",
       "      <th>129591</th>\n",
       "      <td>2004.0</td>\n",
       "      <td>M</td>\n",
       "      <td>Hijo de madre a riesgo</td>\n",
       "      <td>61</td>\n",
       "    </tr>\n",
       "    <tr>\n",
       "      <th>129592</th>\n",
       "      <td>2009.0</td>\n",
       "      <td>H</td>\n",
       "      <td>Receptores de hemoderivados</td>\n",
       "      <td>40</td>\n",
       "    </tr>\n",
       "    <tr>\n",
       "      <th>129593</th>\n",
       "      <td>2015.0</td>\n",
       "      <td>H</td>\n",
       "      <td>Hijo de madre a riesgo</td>\n",
       "      <td>60</td>\n",
       "    </tr>\n",
       "    <tr>\n",
       "      <th>129594</th>\n",
       "      <td>2017.0</td>\n",
       "      <td>H</td>\n",
       "      <td>Hijo de madre a riesgo</td>\n",
       "      <td>60</td>\n",
       "    </tr>\n",
       "    <tr>\n",
       "      <th>129595</th>\n",
       "      <td>2020.0</td>\n",
       "      <td>M</td>\n",
       "      <td>Personas que se inyectan drogas</td>\n",
       "      <td>20</td>\n",
       "    </tr>\n",
       "  </tbody>\n",
       "</table>\n",
       "<p>129596 rows × 4 columns</p>\n",
       "</div>"
      ],
      "text/plain": [
       "        Año de diagnóstico Sexo                 Grupo de riesgo   \\\n",
       "0                   1985.0    H  Personas que se inyectan drogas   \n",
       "1                   1985.0    H  Personas que se inyectan drogas   \n",
       "2                   1985.0    H  Personas que se inyectan drogas   \n",
       "3                   1985.0    H  Personas que se inyectan drogas   \n",
       "4                   1982.0    M  Personas que se inyectan drogas   \n",
       "...                    ...  ...                              ...   \n",
       "129591              2004.0    M           Hijo de madre a riesgo   \n",
       "129592              2009.0    H      Receptores de hemoderivados   \n",
       "129593              2015.0    H           Hijo de madre a riesgo   \n",
       "129594              2017.0    H           Hijo de madre a riesgo   \n",
       "129595              2020.0    M  Personas que se inyectan drogas   \n",
       "\n",
       "        Código Grupo de riesgo  \n",
       "0                           20  \n",
       "1                           20  \n",
       "2                           20  \n",
       "3                           20  \n",
       "4                           20  \n",
       "...                        ...  \n",
       "129591                      61  \n",
       "129592                      40  \n",
       "129593                      60  \n",
       "129594                      60  \n",
       "129595                      20  \n",
       "\n",
       "[129596 rows x 4 columns]"
      ]
     },
     "execution_count": 19,
     "metadata": {},
     "output_type": "execute_result"
    }
   ],
   "source": [
    "import numpy as np\n",
    "import pandas as pd\n",
    "import copy\n",
    "\n",
    "sida: pd.DataFrame = pd.read_csv(\"registro-regional-de-sida.csv\", sep=\";\")\n",
    "\n",
    "genero: pd.DataFrame = (copy.deepcopy(sida).drop(columns=[\"Código Grupo de riesgo\",\"provincia\",\"Edad años\",\"Edad meses\",\"País de origen\"]))\n",
    "\n",
    "cgdr : pd.DataFrame = (copy.deepcopy(sida).drop(columns=[\"Sexo\",\"provincia\",\"Edad años\",\"Edad meses\",\"País de origen\"]))\n",
    "# Código Grupo de riesgo\n",
    "\n",
    "join : pd.DataFrame = pd.merge(genero,cgdr)\n",
    "\n",
    "join"
   ]
  }
 ],
 "metadata": {
  "interpreter": {
   "hash": "2c3e2c992006a9c8420733b5e428a6f7441f81bf1494df676a5de03aca71b460"
  },
  "kernelspec": {
   "display_name": "Python 3.10.4 ('py310')",
   "language": "python",
   "name": "python3"
  },
  "language_info": {
   "codemirror_mode": {
    "name": "ipython",
    "version": 3
   },
   "file_extension": ".py",
   "mimetype": "text/x-python",
   "name": "python",
   "nbconvert_exporter": "python",
   "pygments_lexer": "ipython3",
   "version": "3.10.4"
  },
  "orig_nbformat": 4
 },
 "nbformat": 4,
 "nbformat_minor": 2
}
