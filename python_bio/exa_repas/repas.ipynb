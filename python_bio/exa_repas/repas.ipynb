{
 "cells": [
  {
   "cell_type": "code",
   "execution_count": 1,
   "metadata": {},
   "outputs": [
    {
     "name": "stdout",
     "output_type": "stream",
     "text": [
      "1\n",
      "2\n",
      "4\n",
      "8\n",
      "16\n",
      "32\n",
      "64\n",
      "128\n",
      "256\n",
      "512\n",
      "1024\n",
      "2048\n",
      "4096\n",
      "8192\n",
      "16384\n",
      "32768\n",
      "65536\n",
      "131072\n",
      "262144\n",
      "524288\n",
      "1048576\n"
     ]
    }
   ],
   "source": [
    "for num in range(0,21):\n",
    "    sol:int = 2**num\n",
    "    print(sol)"
   ]
  },
  {
   "cell_type": "code",
   "execution_count": 5,
   "metadata": {},
   "outputs": [
    {
     "name": "stdout",
     "output_type": "stream",
     "text": [
      "{1: 'Roser', 2: 'Jose', 3: 'Pablo', 4: 'Susana', 5: 'Dora', 6: 'Amaya'}\n"
     ]
    }
   ],
   "source": [
    "llistaEstudiants : list[str] = [\"Roser\",\"Jose\",\"Pablo\",\"Susana\",\"Dora\",\"Amaya\",\"Miquel\"]\n",
    "\n",
    "dictionary = {k: v for k, v in zip(range(1,len(llistaEstudiants)), llistaEstudiants)}\n",
    "\n",
    "print(dictionary)"
   ]
  },
  {
   "cell_type": "code",
   "execution_count": 7,
   "metadata": {},
   "outputs": [
    {
     "name": "stdout",
     "output_type": "stream",
     "text": [
      "['A+', 'O+', 'O-', 'AB+', 'B-']\n"
     ]
    }
   ],
   "source": [
    "llistaDonants = [\"A+\",\"O+\",\"O-\",\"A+\", \"AB+\", \"A+\", \"AB+\", \"B-\", \"O+\"]\n",
    "\n",
    "result = []\n",
    "for item in llistaDonants:\n",
    "    if item not in result:\n",
    "        result.append(item)\n",
    "        \n",
    "print(result)\n"
   ]
  },
  {
   "cell_type": "code",
   "execution_count": 8,
   "metadata": {},
   "outputs": [
    {
     "name": "stdout",
     "output_type": "stream",
     "text": [
      "[5, 10, 15, 20, 25, 30, 35, 40, 45, 50, 55, 60, 65, 70, 75, 80, 85, 90, 95, 100]\n"
     ]
    }
   ],
   "source": [
    "lista = list (range(1,101))\n",
    "multis = list()\n",
    "for numero in lista:\n",
    "    if numero % 5 == 0:\n",
    "        multis.append(numero)\n",
    "print(multis)"
   ]
  },
  {
   "cell_type": "code",
   "execution_count": 11,
   "metadata": {},
   "outputs": [
    {
     "name": "stdout",
     "output_type": "stream",
     "text": [
      "293.0\n",
      "[94.2, 65.5, 32.7, 25.5, 24.6, 16.5, 15.7, 9.2, 6.5, 2.6, 0.0, 0.0]\n",
      "94.2\n",
      "0.0\n",
      "24.416666666666668\n"
     ]
    }
   ],
   "source": [
    "llistaPluges21 = [16.5, 0.0, 32.7, 6.5, 24.6, 15.7, 2.6, 0.0, 94.2, 65.5, 25.5, 9.2]\n",
    "\n",
    "total_pluges = sum(llistaPluges21)\n",
    "\n",
    "ordenades = sorted(llistaPluges21,reverse=True)\n",
    "\n",
    "maximo = max(llistaPluges21)\n",
    "\n",
    "minimo = min(llistaPluges21)\n",
    "\n",
    "media = sum(llistaPluges21)/len(llistaPluges21)\n",
    "\n",
    "print(total_pluges)\n",
    "print(ordenades)\n",
    "print(maximo)\n",
    "print(minimo)\n",
    "print(media)"
   ]
  }
 ],
 "metadata": {
  "interpreter": {
   "hash": "2c3e2c992006a9c8420733b5e428a6f7441f81bf1494df676a5de03aca71b460"
  },
  "kernelspec": {
   "display_name": "Python 3.10.4 ('py310')",
   "language": "python",
   "name": "python3"
  },
  "language_info": {
   "codemirror_mode": {
    "name": "ipython",
    "version": 3
   },
   "file_extension": ".py",
   "mimetype": "text/x-python",
   "name": "python",
   "nbconvert_exporter": "python",
   "pygments_lexer": "ipython3",
   "version": "3.10.4"
  },
  "orig_nbformat": 4
 },
 "nbformat": 4,
 "nbformat_minor": 2
}
